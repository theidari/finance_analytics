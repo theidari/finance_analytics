{
 "cells": [
  {
   "cell_type": "code",
   "execution_count": 1,
   "id": "94156cf7",
   "metadata": {
    "id": "94156cf7"
   },
   "outputs": [],
   "source": [
    "# Dependencies and Setup\n",
    "from fadpackage.constants import * # constants\n",
    "from fadpackage.helpers import *   # liberaries and functions\n",
    "from fadpackage.classes import *   # classes"
   ]
  },
  {
   "cell_type": "markdown",
   "id": "b62e816d",
   "metadata": {},
   "source": [
    "<h3>\n",
    "    <font color=\"#940f0f\">4. Analysis</font>\n",
    "</h3>\n",
    "<h5>\n",
    "    <font color=\"#940f0f\">1.4.Data preprocessing </font>\n",
    "</h5>"
   ]
  },
  {
   "cell_type": "code",
   "execution_count": 2,
   "id": "2ee14aac",
   "metadata": {},
   "outputs": [
    {
     "name": "stdout",
     "output_type": "stream",
     "text": [
      "<class 'pandas.core.frame.DataFrame'>\n",
      "RangeIndex: 1056320 entries, 0 to 1056319\n",
      "Data columns (total 10 columns):\n",
      " #   Column      Non-Null Count    Dtype  \n",
      "---  ------      --------------    -----  \n",
      " 0   trans_id    1056320 non-null  int64  \n",
      " 1   account_id  1056320 non-null  int64  \n",
      " 2   date        1056320 non-null  int64  \n",
      " 3   type        1056320 non-null  object \n",
      " 4   operation   873206 non-null   object \n",
      " 5   amount      1056320 non-null  float64\n",
      " 6   balance     1056320 non-null  float64\n",
      " 7   k_symbol    574439 non-null   object \n",
      " 8   bank        273508 non-null   object \n",
      " 9   account     295389 non-null   float64\n",
      "dtypes: float64(3), int64(3), object(4)\n",
      "memory usage: 80.6+ MB\n"
     ]
    }
   ],
   "source": [
    "# import the packages\n",
    "import pandas as pd\n",
    "import numpy as np\n",
    "from datetime import datetime, timedelta\n",
    "import math\n",
    "\n",
    "\n",
    "import matplotlib.pyplot as plt\n",
    "import matplotlib.mlab as mlab\n",
    "import matplotlib\n",
    "plt.style.use('ggplot')\n",
    "from matplotlib.pyplot import figure\n",
    "\n",
    "%matplotlib inline\n",
    "matplotlib.rcParams['figure.figsize'] = (12,8)\n",
    "\n",
    "import seaborn as sns\n",
    "\n",
    "pd.options.mode.chained_assignment = None\n",
    "\n",
    "# read the data\n",
    "df_trans = pd.read_csv(DATA_URL+'trans.csv', delimiter=',', low_memory=False)  # The transactions.\n",
    "df_trans.info()"
   ]
  },
  {
   "cell_type": "code",
   "execution_count": 3,
   "id": "b63437e7",
   "metadata": {},
   "outputs": [
    {
     "data": {
      "text/html": [
       "<div>\n",
       "<style scoped>\n",
       "    .dataframe tbody tr th:only-of-type {\n",
       "        vertical-align: middle;\n",
       "    }\n",
       "\n",
       "    .dataframe tbody tr th {\n",
       "        vertical-align: top;\n",
       "    }\n",
       "\n",
       "    .dataframe thead th {\n",
       "        text-align: right;\n",
       "    }\n",
       "</style>\n",
       "<table border=\"1\" class=\"dataframe\">\n",
       "  <thead>\n",
       "    <tr style=\"text-align: right;\">\n",
       "      <th></th>\n",
       "      <th>trans_id</th>\n",
       "      <th>account_id</th>\n",
       "      <th>date</th>\n",
       "      <th>type</th>\n",
       "      <th>operation</th>\n",
       "      <th>amount</th>\n",
       "      <th>balance</th>\n",
       "      <th>k_symbol</th>\n",
       "      <th>bank</th>\n",
       "      <th>account</th>\n",
       "    </tr>\n",
       "  </thead>\n",
       "  <tbody>\n",
       "    <tr>\n",
       "      <th>0</th>\n",
       "      <td>695247</td>\n",
       "      <td>2378</td>\n",
       "      <td>930101</td>\n",
       "      <td>PRIJEM</td>\n",
       "      <td>VKLAD</td>\n",
       "      <td>700.0</td>\n",
       "      <td>700.0</td>\n",
       "      <td>NaN</td>\n",
       "      <td>NaN</td>\n",
       "      <td>NaN</td>\n",
       "    </tr>\n",
       "    <tr>\n",
       "      <th>1</th>\n",
       "      <td>171812</td>\n",
       "      <td>576</td>\n",
       "      <td>930101</td>\n",
       "      <td>PRIJEM</td>\n",
       "      <td>VKLAD</td>\n",
       "      <td>900.0</td>\n",
       "      <td>900.0</td>\n",
       "      <td>NaN</td>\n",
       "      <td>NaN</td>\n",
       "      <td>NaN</td>\n",
       "    </tr>\n",
       "    <tr>\n",
       "      <th>2</th>\n",
       "      <td>207264</td>\n",
       "      <td>704</td>\n",
       "      <td>930101</td>\n",
       "      <td>PRIJEM</td>\n",
       "      <td>VKLAD</td>\n",
       "      <td>1000.0</td>\n",
       "      <td>1000.0</td>\n",
       "      <td>NaN</td>\n",
       "      <td>NaN</td>\n",
       "      <td>NaN</td>\n",
       "    </tr>\n",
       "    <tr>\n",
       "      <th>3</th>\n",
       "      <td>1117247</td>\n",
       "      <td>3818</td>\n",
       "      <td>930101</td>\n",
       "      <td>PRIJEM</td>\n",
       "      <td>VKLAD</td>\n",
       "      <td>600.0</td>\n",
       "      <td>600.0</td>\n",
       "      <td>NaN</td>\n",
       "      <td>NaN</td>\n",
       "      <td>NaN</td>\n",
       "    </tr>\n",
       "    <tr>\n",
       "      <th>4</th>\n",
       "      <td>579373</td>\n",
       "      <td>1972</td>\n",
       "      <td>930102</td>\n",
       "      <td>PRIJEM</td>\n",
       "      <td>VKLAD</td>\n",
       "      <td>400.0</td>\n",
       "      <td>400.0</td>\n",
       "      <td>NaN</td>\n",
       "      <td>NaN</td>\n",
       "      <td>NaN</td>\n",
       "    </tr>\n",
       "    <tr>\n",
       "      <th>...</th>\n",
       "      <td>...</td>\n",
       "      <td>...</td>\n",
       "      <td>...</td>\n",
       "      <td>...</td>\n",
       "      <td>...</td>\n",
       "      <td>...</td>\n",
       "      <td>...</td>\n",
       "      <td>...</td>\n",
       "      <td>...</td>\n",
       "      <td>...</td>\n",
       "    </tr>\n",
       "    <tr>\n",
       "      <th>1056315</th>\n",
       "      <td>3626622</td>\n",
       "      <td>2906</td>\n",
       "      <td>981231</td>\n",
       "      <td>PRIJEM</td>\n",
       "      <td>NaN</td>\n",
       "      <td>62.3</td>\n",
       "      <td>13729.4</td>\n",
       "      <td>UROK</td>\n",
       "      <td>NaN</td>\n",
       "      <td>NaN</td>\n",
       "    </tr>\n",
       "    <tr>\n",
       "      <th>1056316</th>\n",
       "      <td>3627616</td>\n",
       "      <td>2935</td>\n",
       "      <td>981231</td>\n",
       "      <td>PRIJEM</td>\n",
       "      <td>NaN</td>\n",
       "      <td>81.3</td>\n",
       "      <td>19544.9</td>\n",
       "      <td>UROK</td>\n",
       "      <td>NaN</td>\n",
       "      <td>NaN</td>\n",
       "    </tr>\n",
       "    <tr>\n",
       "      <th>1056317</th>\n",
       "      <td>3625403</td>\n",
       "      <td>2869</td>\n",
       "      <td>981231</td>\n",
       "      <td>PRIJEM</td>\n",
       "      <td>NaN</td>\n",
       "      <td>60.2</td>\n",
       "      <td>14638.2</td>\n",
       "      <td>UROK</td>\n",
       "      <td>NaN</td>\n",
       "      <td>NaN</td>\n",
       "    </tr>\n",
       "    <tr>\n",
       "      <th>1056318</th>\n",
       "      <td>3626683</td>\n",
       "      <td>2907</td>\n",
       "      <td>981231</td>\n",
       "      <td>PRIJEM</td>\n",
       "      <td>NaN</td>\n",
       "      <td>107.5</td>\n",
       "      <td>23453.0</td>\n",
       "      <td>UROK</td>\n",
       "      <td>NaN</td>\n",
       "      <td>NaN</td>\n",
       "    </tr>\n",
       "    <tr>\n",
       "      <th>1056319</th>\n",
       "      <td>3626540</td>\n",
       "      <td>2902</td>\n",
       "      <td>981231</td>\n",
       "      <td>PRIJEM</td>\n",
       "      <td>NaN</td>\n",
       "      <td>164.1</td>\n",
       "      <td>41642.9</td>\n",
       "      <td>UROK</td>\n",
       "      <td>NaN</td>\n",
       "      <td>NaN</td>\n",
       "    </tr>\n",
       "  </tbody>\n",
       "</table>\n",
       "<p>1056320 rows × 10 columns</p>\n",
       "</div>"
      ],
      "text/plain": [
       "         trans_id  account_id    date    type operation  amount  balance  \\\n",
       "0          695247        2378  930101  PRIJEM     VKLAD   700.0    700.0   \n",
       "1          171812         576  930101  PRIJEM     VKLAD   900.0    900.0   \n",
       "2          207264         704  930101  PRIJEM     VKLAD  1000.0   1000.0   \n",
       "3         1117247        3818  930101  PRIJEM     VKLAD   600.0    600.0   \n",
       "4          579373        1972  930102  PRIJEM     VKLAD   400.0    400.0   \n",
       "...           ...         ...     ...     ...       ...     ...      ...   \n",
       "1056315   3626622        2906  981231  PRIJEM       NaN    62.3  13729.4   \n",
       "1056316   3627616        2935  981231  PRIJEM       NaN    81.3  19544.9   \n",
       "1056317   3625403        2869  981231  PRIJEM       NaN    60.2  14638.2   \n",
       "1056318   3626683        2907  981231  PRIJEM       NaN   107.5  23453.0   \n",
       "1056319   3626540        2902  981231  PRIJEM       NaN   164.1  41642.9   \n",
       "\n",
       "        k_symbol bank  account  \n",
       "0            NaN  NaN      NaN  \n",
       "1            NaN  NaN      NaN  \n",
       "2            NaN  NaN      NaN  \n",
       "3            NaN  NaN      NaN  \n",
       "4            NaN  NaN      NaN  \n",
       "...          ...  ...      ...  \n",
       "1056315     UROK  NaN      NaN  \n",
       "1056316     UROK  NaN      NaN  \n",
       "1056317     UROK  NaN      NaN  \n",
       "1056318     UROK  NaN      NaN  \n",
       "1056319     UROK  NaN      NaN  \n",
       "\n",
       "[1056320 rows x 10 columns]"
      ]
     },
     "execution_count": 3,
     "metadata": {},
     "output_type": "execute_result"
    }
   ],
   "source": [
    "df_trans"
   ]
  },
  {
   "cell_type": "code",
   "execution_count": 4,
   "id": "0aa5da4f",
   "metadata": {
    "colab": {
     "base_uri": "https://localhost:8080/",
     "height": 206
    },
    "id": "0aa5da4f",
    "outputId": "b6eb1660-2d4f-466f-e464-6030b8dedd8b"
   },
   "outputs": [],
   "source": [
    "# filter for features\n",
    "df_trans = df_trans[['date', 'account_id', 'type', 'amount']]\n",
    "\n",
    "# Convert the date into date format.\n",
    "df_trans['date'] = pd.to_datetime(df_trans['date'], format='%y%m%d')"
   ]
  },
  {
   "cell_type": "code",
   "execution_count": 5,
   "id": "7f9f1981",
   "metadata": {},
   "outputs": [
    {
     "data": {
      "text/html": [
       "<div>\n",
       "<style scoped>\n",
       "    .dataframe tbody tr th:only-of-type {\n",
       "        vertical-align: middle;\n",
       "    }\n",
       "\n",
       "    .dataframe tbody tr th {\n",
       "        vertical-align: top;\n",
       "    }\n",
       "\n",
       "    .dataframe thead th {\n",
       "        text-align: right;\n",
       "    }\n",
       "</style>\n",
       "<table border=\"1\" class=\"dataframe\">\n",
       "  <thead>\n",
       "    <tr style=\"text-align: right;\">\n",
       "      <th></th>\n",
       "      <th>date</th>\n",
       "      <th>account_id</th>\n",
       "      <th>type</th>\n",
       "      <th>amount</th>\n",
       "    </tr>\n",
       "  </thead>\n",
       "  <tbody>\n",
       "    <tr>\n",
       "      <th>657611</th>\n",
       "      <td>1997-10-01</td>\n",
       "      <td>3571</td>\n",
       "      <td>VYDAJ</td>\n",
       "      <td>1300.0</td>\n",
       "    </tr>\n",
       "    <tr>\n",
       "      <th>657612</th>\n",
       "      <td>1997-10-01</td>\n",
       "      <td>2370</td>\n",
       "      <td>PRIJEM</td>\n",
       "      <td>300.0</td>\n",
       "    </tr>\n",
       "    <tr>\n",
       "      <th>657613</th>\n",
       "      <td>1997-10-01</td>\n",
       "      <td>7733</td>\n",
       "      <td>VYDAJ</td>\n",
       "      <td>14200.0</td>\n",
       "    </tr>\n",
       "    <tr>\n",
       "      <th>657614</th>\n",
       "      <td>1997-10-01</td>\n",
       "      <td>7753</td>\n",
       "      <td>VYDAJ</td>\n",
       "      <td>12600.0</td>\n",
       "    </tr>\n",
       "    <tr>\n",
       "      <th>657615</th>\n",
       "      <td>1997-10-01</td>\n",
       "      <td>7721</td>\n",
       "      <td>VYDAJ</td>\n",
       "      <td>18000.0</td>\n",
       "    </tr>\n",
       "    <tr>\n",
       "      <th>...</th>\n",
       "      <td>...</td>\n",
       "      <td>...</td>\n",
       "      <td>...</td>\n",
       "      <td>...</td>\n",
       "    </tr>\n",
       "    <tr>\n",
       "      <th>681601</th>\n",
       "      <td>1997-10-31</td>\n",
       "      <td>1775</td>\n",
       "      <td>VYDAJ</td>\n",
       "      <td>14.6</td>\n",
       "    </tr>\n",
       "    <tr>\n",
       "      <th>681602</th>\n",
       "      <td>1997-10-31</td>\n",
       "      <td>1767</td>\n",
       "      <td>VYDAJ</td>\n",
       "      <td>14.6</td>\n",
       "    </tr>\n",
       "    <tr>\n",
       "      <th>681603</th>\n",
       "      <td>1997-10-31</td>\n",
       "      <td>1772</td>\n",
       "      <td>VYDAJ</td>\n",
       "      <td>30.0</td>\n",
       "    </tr>\n",
       "    <tr>\n",
       "      <th>681604</th>\n",
       "      <td>1997-10-31</td>\n",
       "      <td>1768</td>\n",
       "      <td>VYDAJ</td>\n",
       "      <td>14.6</td>\n",
       "    </tr>\n",
       "    <tr>\n",
       "      <th>681605</th>\n",
       "      <td>1997-10-31</td>\n",
       "      <td>1777</td>\n",
       "      <td>VYDAJ</td>\n",
       "      <td>14.6</td>\n",
       "    </tr>\n",
       "  </tbody>\n",
       "</table>\n",
       "<p>23995 rows × 4 columns</p>\n",
       "</div>"
      ],
      "text/plain": [
       "             date  account_id    type   amount\n",
       "657611 1997-10-01        3571   VYDAJ   1300.0\n",
       "657612 1997-10-01        2370  PRIJEM    300.0\n",
       "657613 1997-10-01        7733   VYDAJ  14200.0\n",
       "657614 1997-10-01        7753   VYDAJ  12600.0\n",
       "657615 1997-10-01        7721   VYDAJ  18000.0\n",
       "...           ...         ...     ...      ...\n",
       "681601 1997-10-31        1775   VYDAJ     14.6\n",
       "681602 1997-10-31        1767   VYDAJ     14.6\n",
       "681603 1997-10-31        1772   VYDAJ     30.0\n",
       "681604 1997-10-31        1768   VYDAJ     14.6\n",
       "681605 1997-10-31        1777   VYDAJ     14.6\n",
       "\n",
       "[23995 rows x 4 columns]"
      ]
     },
     "execution_count": 5,
     "metadata": {},
     "output_type": "execute_result"
    }
   ],
   "source": [
    "df_trans = df_trans.loc[(df_trans['date'] >= \"1997-10-01\") & (df_trans['date'] < \"1997-11-01\")]\n",
    "df_trans"
   ]
  },
  {
   "cell_type": "code",
   "execution_count": null,
   "id": "67885fad",
   "metadata": {},
   "outputs": [],
   "source": []
  },
  {
   "cell_type": "code",
   "execution_count": 6,
   "id": "28fc57d8",
   "metadata": {},
   "outputs": [
    {
     "name": "stderr",
     "output_type": "stream",
     "text": [
      "C:\\Users\\Theid\\AppData\\Local\\Temp\\ipykernel_1492\\2257885171.py:1: UserWarning: \n",
      "\n",
      "`distplot` is a deprecated function and will be removed in seaborn v0.14.0.\n",
      "\n",
      "Please adapt your code to use either `displot` (a figure-level function with\n",
      "similar flexibility) or `histplot` (an axes-level function for histograms).\n",
      "\n",
      "For a guide to updating your code to use the new functions, please see\n",
      "https://gist.github.com/mwaskom/de44147ed2974457ad6372750bbe5751\n",
      "\n",
      "  sns.distplot(df_trans['amount'], bins=50)\n"
     ]
    },
    {
     "data": {
      "text/plain": [
       "<AxesSubplot:xlabel='amount', ylabel='Density'>"
      ]
     },
     "execution_count": 6,
     "metadata": {},
     "output_type": "execute_result"
    },
    {
     "data": {
      "image/png": "[encoded data removed]",
      "text/plain": [
       "<Figure size 1200x800 with 1 Axes>"
      ]
     },
     "metadata": {},
     "output_type": "display_data"
    }
   ],
   "source": [
    "sns.distplot(df_trans['amount'], bins=50)\n"
   ]
  },
  {
   "cell_type": "code",
   "execution_count": 7,
   "id": "09c6e0d7",
   "metadata": {},
   "outputs": [
    {
     "name": "stderr",
     "output_type": "stream",
     "text": [
      "C:\\Users\\Theid\\AppData\\Local\\Temp\\ipykernel_1492\\704999825.py:1: UserWarning: \n",
      "\n",
      "`distplot` is a deprecated function and will be removed in seaborn v0.14.0.\n",
      "\n",
      "Please adapt your code to use either `displot` (a figure-level function with\n",
      "similar flexibility) or `histplot` (an axes-level function for histograms).\n",
      "\n",
      "For a guide to updating your code to use the new functions, please see\n",
      "https://gist.github.com/mwaskom/de44147ed2974457ad6372750bbe5751\n",
      "\n",
      "  sns.distplot(df_trans['amount'], bins=50)\n"
     ]
    },
    {
     "data": {
      "text/plain": [
       "<AxesSubplot:xlabel='type', ylabel='count'>"
      ]
     },
     "execution_count": 7,
     "metadata": {},
     "output_type": "execute_result"
    },
    {
     "data": {
      "image/png": "[encoded data removed]",
      "text/plain": [
       "<Figure size 1200x800 with 1 Axes>"
      ]
     },
     "metadata": {},
     "output_type": "display_data"
    }
   ],
   "source": [
    "sns.distplot(df_trans['amount'], bins=50)\n",
    "\n",
    "sns.countplot(x='type', data=df_trans)"
   ]
  },
  {
   "cell_type": "code",
   "execution_count": 8,
   "id": "9250fc82",
   "metadata": {},
   "outputs": [
    {
     "data": {
      "text/html": [
       "<div>\n",
       "<style scoped>\n",
       "    .dataframe tbody tr th:only-of-type {\n",
       "        vertical-align: middle;\n",
       "    }\n",
       "\n",
       "    .dataframe tbody tr th {\n",
       "        vertical-align: top;\n",
       "    }\n",
       "\n",
       "    .dataframe thead th {\n",
       "        text-align: right;\n",
       "    }\n",
       "</style>\n",
       "<table border=\"1\" class=\"dataframe\">\n",
       "  <thead>\n",
       "    <tr style=\"text-align: right;\">\n",
       "      <th></th>\n",
       "      <th>date</th>\n",
       "      <th>account_id</th>\n",
       "      <th>type</th>\n",
       "      <th>amount</th>\n",
       "    </tr>\n",
       "  </thead>\n",
       "  <tbody>\n",
       "    <tr>\n",
       "      <th>657611</th>\n",
       "      <td>1997-10-01</td>\n",
       "      <td>3571</td>\n",
       "      <td>WITHDRAWAL</td>\n",
       "      <td>1300.0</td>\n",
       "    </tr>\n",
       "    <tr>\n",
       "      <th>657612</th>\n",
       "      <td>1997-10-01</td>\n",
       "      <td>2370</td>\n",
       "      <td>CREDIT</td>\n",
       "      <td>300.0</td>\n",
       "    </tr>\n",
       "    <tr>\n",
       "      <th>657613</th>\n",
       "      <td>1997-10-01</td>\n",
       "      <td>7733</td>\n",
       "      <td>WITHDRAWAL</td>\n",
       "      <td>14200.0</td>\n",
       "    </tr>\n",
       "    <tr>\n",
       "      <th>657614</th>\n",
       "      <td>1997-10-01</td>\n",
       "      <td>7753</td>\n",
       "      <td>WITHDRAWAL</td>\n",
       "      <td>12600.0</td>\n",
       "    </tr>\n",
       "    <tr>\n",
       "      <th>657615</th>\n",
       "      <td>1997-10-01</td>\n",
       "      <td>7721</td>\n",
       "      <td>WITHDRAWAL</td>\n",
       "      <td>18000.0</td>\n",
       "    </tr>\n",
       "    <tr>\n",
       "      <th>...</th>\n",
       "      <td>...</td>\n",
       "      <td>...</td>\n",
       "      <td>...</td>\n",
       "      <td>...</td>\n",
       "    </tr>\n",
       "    <tr>\n",
       "      <th>681601</th>\n",
       "      <td>1997-10-31</td>\n",
       "      <td>1775</td>\n",
       "      <td>WITHDRAWAL</td>\n",
       "      <td>14.6</td>\n",
       "    </tr>\n",
       "    <tr>\n",
       "      <th>681602</th>\n",
       "      <td>1997-10-31</td>\n",
       "      <td>1767</td>\n",
       "      <td>WITHDRAWAL</td>\n",
       "      <td>14.6</td>\n",
       "    </tr>\n",
       "    <tr>\n",
       "      <th>681603</th>\n",
       "      <td>1997-10-31</td>\n",
       "      <td>1772</td>\n",
       "      <td>WITHDRAWAL</td>\n",
       "      <td>30.0</td>\n",
       "    </tr>\n",
       "    <tr>\n",
       "      <th>681604</th>\n",
       "      <td>1997-10-31</td>\n",
       "      <td>1768</td>\n",
       "      <td>WITHDRAWAL</td>\n",
       "      <td>14.6</td>\n",
       "    </tr>\n",
       "    <tr>\n",
       "      <th>681605</th>\n",
       "      <td>1997-10-31</td>\n",
       "      <td>1777</td>\n",
       "      <td>WITHDRAWAL</td>\n",
       "      <td>14.6</td>\n",
       "    </tr>\n",
       "  </tbody>\n",
       "</table>\n",
       "<p>23995 rows × 4 columns</p>\n",
       "</div>"
      ],
      "text/plain": [
       "             date  account_id        type   amount\n",
       "657611 1997-10-01        3571  WITHDRAWAL   1300.0\n",
       "657612 1997-10-01        2370      CREDIT    300.0\n",
       "657613 1997-10-01        7733  WITHDRAWAL  14200.0\n",
       "657614 1997-10-01        7753  WITHDRAWAL  12600.0\n",
       "657615 1997-10-01        7721  WITHDRAWAL  18000.0\n",
       "...           ...         ...         ...      ...\n",
       "681601 1997-10-31        1775  WITHDRAWAL     14.6\n",
       "681602 1997-10-31        1767  WITHDRAWAL     14.6\n",
       "681603 1997-10-31        1772  WITHDRAWAL     30.0\n",
       "681604 1997-10-31        1768  WITHDRAWAL     14.6\n",
       "681605 1997-10-31        1777  WITHDRAWAL     14.6\n",
       "\n",
       "[23995 rows x 4 columns]"
      ]
     },
     "execution_count": 8,
     "metadata": {},
     "output_type": "execute_result"
    }
   ],
   "source": [
    "# Change the transaction types to English.\n",
    "to_replace = {'PRIJEM': 'CREDIT', 'VYDAJ': 'WITHDRAWAL', 'VYBER': 'WITHDRAWAL'}\n",
    "df_trans['type'] = df_trans['type'].replace(to_replace)\n",
    "df_trans"
   ]
  },
  {
   "cell_type": "code",
   "execution_count": 13,
   "id": "5a5bd9f7",
   "metadata": {},
   "outputs": [],
   "source": [
    "def convert_and_profile(dfs):\n",
    "    \"\"\"\n",
    "    For each DataFrame in a list, saves its train and test subsets as CSV files,\n",
    "    and generates and saves a profile report for the train subset.\n",
    "\n",
    "    Args:\n",
    "        dfs: A list of DataFrames.\n",
    "\n",
    "    Returns:\n",
    "        None.\n",
    "    \"\"\"\n",
    "    query_profile_report = f\"\"\"ProfileReport({dfs}, explorative=True, dark_mode=True)\"\"\"\n",
    "    profile_report = eval(query_profile_report)\n",
    "    profile_report_file_path = Path(f'../results/{dfs}_profile.html')\n",
    "    try:\n",
    "        profile_report_file_path.resolve(strict=True)\n",
    "    except FileNotFoundError:\n",
    "        profile_report.to_file(profile_report_file_path)"
   ]
  },
  {
   "cell_type": "code",
   "execution_count": 14,
   "id": "83c10e36",
   "metadata": {},
   "outputs": [
    {
     "data": {
      "application/vnd.jupyter.widget-view+json": {
       "model_id": "23335a58b3794ebbbd831f555607590e",
       "version_major": 2,
       "version_minor": 0
      },
      "text/plain": [
       "Summarize dataset:   0%|          | 0/5 [00:00<?, ?it/s]"
      ]
     },
     "metadata": {},
     "output_type": "display_data"
    },
    {
     "data": {
      "application/vnd.jupyter.widget-view+json": {
       "model_id": "dc2e5c9a0fdb4229b318259221b076e2",
       "version_major": 2,
       "version_minor": 0
      },
      "text/plain": [
       "Generate report structure:   0%|          | 0/1 [00:00<?, ?it/s]"
      ]
     },
     "metadata": {},
     "output_type": "display_data"
    },
    {
     "data": {
      "application/vnd.jupyter.widget-view+json": {
       "model_id": "a61544ac40564811a9e0d0b52ea74830",
       "version_major": 2,
       "version_minor": 0
      },
      "text/plain": [
       "Render HTML:   0%|          | 0/1 [00:00<?, ?it/s]"
      ]
     },
     "metadata": {},
     "output_type": "display_data"
    },
    {
     "data": {
      "application/vnd.jupyter.widget-view+json": {
       "model_id": "aa38b4f28d5e44ceb0ccd185fc3f80d5",
       "version_major": 2,
       "version_minor": 0
      },
      "text/plain": [
       "Export report to file:   0%|          | 0/1 [00:00<?, ?it/s]"
      ]
     },
     "metadata": {},
     "output_type": "display_data"
    }
   ],
   "source": [
    "convert_and_profile(\"df_trans\")"
   ]
  },
  {
   "cell_type": "code",
   "execution_count": null,
   "id": "d8e5b24c",
   "metadata": {},
   "outputs": [],
   "source": [
    "# save new dataframe\n",
    "df_trans.to_csv(DATA_NEW+'trans_mod.csv', index=False)"
   ]
  },
  {
   "cell_type": "code",
   "execution_count": null,
   "id": "3e1bd6d7",
   "metadata": {
    "scrolled": true
   },
   "outputs": [],
   "source": [
    "df_withdrawals = df_trans.query('type == \"WITHDRAWAL\"').sort_values(by=['account_id', 'date']).set_index('date')\n",
    "\n",
    "df_withdrawals.head()"
   ]
  },
  {
   "cell_type": "code",
   "execution_count": null,
   "id": "dc8f1d10",
   "metadata": {},
   "outputs": [],
   "source": [
    "def generate_rolling_features(df, window_size):\n",
    "    for i, item in enumerate(window_size):\n",
    "        df[\"sum_\"+str(item)] = df.groupby([\"account_id\"])[\"amount\"].\\\n",
    "        transform(lambda s: s.rolling(timedelta(days=item)).sum())\n",
    "\n",
    "        df[\"mean_\"+str(item)] = df.groupby([\"account_id\"])[\"amount\"].\\\n",
    "        transform(lambda s: s.rolling(timedelta(days=item)).mean())\n",
    "\n",
    "        df[\"count_\"+str(item)] = df.groupby([\"account_id\"])[\"amount\"].\\\n",
    "        transform(lambda s: s.rolling(timedelta(days=item)).count())\n",
    "    df.to_csv(DATA_NEW+'trans_mod_withdrawal.csv', index=True)\n",
    "    return df"
   ]
  },
  {
   "cell_type": "code",
   "execution_count": null,
   "id": "17f47796",
   "metadata": {},
   "outputs": [],
   "source": [
    "generate_rolling_features(df_withdrawals, [3, 15, 30])"
   ]
  },
  {
   "cell_type": "code",
   "execution_count": null,
   "id": "c6f07e06",
   "metadata": {
    "scrolled": false
   },
   "outputs": [],
   "source": [
    "sns.distplot(df_withdrawals['sum_3'], bins=50)\n",
    "\n",
    "sns.countplot(x='count_3', data=df_withdrawals)\n",
    "\n",
    "sns.catplot(x=\"count_3\", y=\"sum_3\",\n",
    "            kind=\"box\", data=df_withdrawals, order=[1, 2, 3, 4, 5, 6, 7, 8, 9, 10],\n",
    "            aspect=3.0)"
   ]
  },
  {
   "cell_type": "code",
   "execution_count": null,
   "id": "af469407",
   "metadata": {},
   "outputs": [],
   "source": [
    "df_trans_3d = df_withdrawals.loc[(df_withdrawals['count_3'] == 4)]\n",
    "df_trans_3d = df_trans_3d[['account_id', 'type', 'sum_3']]\n",
    "df_trans_3d.sort_values(by='date')"
   ]
  },
  {
   "cell_type": "code",
   "execution_count": null,
   "id": "c0f89c14",
   "metadata": {},
   "outputs": [],
   "source": [
    "sum_3days_column = df_trans_3d['sum_3']\n",
    "\n",
    "# Calculate the IQR\n",
    "q1 = sum_3days_column.quantile(0.25)\n",
    "q3 = sum_3days_column.quantile(0.75)\n",
    "iqr = q3 - q1\n",
    "print(\"Interquartile Range (Q1):\", q1)\n",
    "print(\"Interquartile Range (Q3):\", q3)\n",
    "print(\"Interquartile Range (IQR):\", iqr)\n",
    "li=q1-(1.5*iqr)\n",
    "ti=q3+(1.5*iqr)\n",
    "print(\"Interquartile Range (li):\", li)\n",
    "print(\"Interquartile Range (Ti):\", ti)"
   ]
  },
  {
   "cell_type": "code",
   "execution_count": null,
   "id": "6e7699ca",
   "metadata": {},
   "outputs": [],
   "source": [
    "number_of_outliers = (df_trans_3d.loc[df_trans_3d['sum_3'] >= ti]).count()\n",
    "number_of_outliers"
   ]
  },
  {
   "cell_type": "code",
   "execution_count": null,
   "id": "fd2f53cb",
   "metadata": {
    "scrolled": false
   },
   "outputs": [],
   "source": [
    "plt.figure(figsize=(20, 10))\n",
    "plt.scatter(df_trans_3d.index, df_trans_3d['sum_3'], marker='o', edgecolor='black',\n",
    "            facecolor=np.where(df_trans_3d['sum_3'] > ti, 'red', 'tab:blue'), label='RSI')\n",
    "plt.axhline(0, linestyle='--', color='orange')\n",
    "plt.axhline(ti, linestyle='--', color='tab:blue')\n",
    "plt.xticks(rotation=45, rotation_mode='anchor', ha='right', fontsize='12')\n",
    "plt.yticks(fontsize='12')\n",
    "plt.legend(fontsize='12')\n",
    "plt.xlabel('Date (yyyy-mm-dd)', fontsize=14)\n",
    "plt.ylabel('RSI (%)', fontsize=14)\n",
    "plt.show()"
   ]
  },
  {
   "cell_type": "code",
   "execution_count": null,
   "id": "fd5d6de5",
   "metadata": {},
   "outputs": [],
   "source": [
    "df_trans"
   ]
  },
  {
   "cell_type": "code",
   "execution_count": null,
   "id": "dda09cbe",
   "metadata": {},
   "outputs": [],
   "source": [
    "df_trans_account = df_trans.loc[(df_trans['account_id'] == 11111)]\n",
    "df_trans_account"
   ]
  },
  {
   "cell_type": "code",
   "execution_count": null,
   "id": "957e7770",
   "metadata": {},
   "outputs": [],
   "source": [
    "grouped = df_trans_account.groupby('type')['amount'].sum()\n",
    "\n",
    "# Access the sums of withdrawals and credits\n",
    "withdrawals_sum = grouped['WITHDRAWAL']\n",
    "credits_sum = grouped['CREDIT']\n",
    "\n",
    "print(\"Sum of Withdrawals:\", withdrawals_sum)\n",
    "print(\"Sum of Credits:\", credits_sum)"
   ]
  },
  {
   "cell_type": "code",
   "execution_count": null,
   "id": "8eb597e5",
   "metadata": {},
   "outputs": [],
   "source": [
    "balance=credits_sum-withdrawals_sum\n",
    "balance"
   ]
  },
  {
   "cell_type": "code",
   "execution_count": null,
   "id": "bfa46947",
   "metadata": {
    "scrolled": false
   },
   "outputs": [],
   "source": [
    "sns.distplot(df_withdrawals['sum_15'], bins=50)\n",
    "\n",
    "sns.countplot(x='count_15', data=df_withdrawals)\n",
    "\n",
    "sns.catplot(x=\"count_15\", y=\"sum_15\",\n",
    "            kind=\"box\", data=df_withdrawals, order=[1, 2, 3, 4, 5, 6, 7, 8, 9, 10],\n",
    "            aspect=3.0)"
   ]
  },
  {
   "cell_type": "code",
   "execution_count": null,
   "id": "92156f27",
   "metadata": {},
   "outputs": [],
   "source": []
  },
  {
   "cell_type": "code",
   "execution_count": null,
   "id": "5c16f87d",
   "metadata": {},
   "outputs": [],
   "source": [
    "def violin_plot(df):\n",
    "    \"\"\"\n",
    "    Create a violin plot for a DataFrame\n",
    "\n",
    "    Args:\n",
    "        df: A pandas DataFrames that will be analyzed.\n",
    "        \n",
    "    Returns:\n",
    "        A plot includes a statistical summary of the features.\n",
    "    \"\"\"\n",
    "    # ceate subplots with one row and number of columns equal to the number of columns in the df\n",
    "    fig = make_subplots(rows=1, cols=len(df.columns), horizontal_spacing=0.02)\n",
    "    \n",
    "    # define a color gradient for the violins based on color data in (./src/package/)\n",
    "    colors = np.linspace(COLORSET[0], COLORSET[1], len(df.columns)).tolist()\n",
    "    \n",
    "    # iterate through each column in the df and add a violin trace to the plot\n",
    "    for i, column in enumerate(df.columns):\n",
    "        \n",
    "        # define the color for the violin based on the color gradient\n",
    "        rgb_tuple = tuple(colors[i])\n",
    "        rgb_string = 'rgb({}, {}, {})'.format(*rgb_tuple)\n",
    "        \n",
    "        # if the column name contains more than two words, split the name into two lines for better readability\n",
    "        if len(column.split()) >= 3:\n",
    "            first_line = column.split()[0].upper()\n",
    "            second_line = column.split()[1].upper()+\" \"+column.split()[2].upper()\n",
    "            name = f\"{first_line}<br>{second_line}\"\n",
    "        else:\n",
    "            name = column.upper()\n",
    "            \n",
    "        # add a violin trace to the plot\n",
    "        fig.add_trace(\n",
    "            go.Violin(\n",
    "                y=df[column],\n",
    "                name=name,\n",
    "                box_visible=True,\n",
    "                meanline_visible=True,\n",
    "                fillcolor=rgb_string,\n",
    "                opacity=0.7,\n",
    "                line=dict(color='black', width=1),\n",
    "                marker=dict(color='black', size=5, opacity=0.3),\n",
    "                showlegend=False\n",
    "            ),\n",
    "            row=1,\n",
    "            col=i+1\n",
    "        )\n",
    "    \n",
    "    # update the layout of the plot\n",
    "    fig.update_layout(\n",
    "        height=700,\n",
    "        width=1500, \n",
    "        xaxis=dict(color= 'black',\n",
    "                   showline=True,\n",
    "                   linewidth=1,\n",
    "                   linecolor='black'), \n",
    "        yaxis=dict(title=dict(text='Counts', font=dict(size= 14, color= 'black', family= \"calibri\"))),\n",
    "        plot_bgcolor='#f7f7f7',\n",
    "        paper_bgcolor=\"#ffffff\"\n",
    "    )\n",
    "    \n",
    "    # update the x and y axes for each column\n",
    "    for i, column in enumerate(df.columns):\n",
    "        fig.update_xaxes(tickcolor='#ffffff',\n",
    "                tickfont=dict(size= 14, family='calibri', color='black' ),\n",
    "                                         showline=True, linewidth=3, linecolor='#f7f7f7', mirror=True)\n",
    "        fig.update_yaxes(tickangle=-90, tickfont=dict(size= 14, family='calibri', color='black'), \n",
    "                                                      showline=True, linewidth=3, linecolor='#f7f7f7', mirror=True)\n",
    "\n",
    "    return fig.show() # show the plot\n"
   ]
  },
  {
   "cell_type": "code",
   "execution_count": null,
   "id": "9e155561",
   "metadata": {},
   "outputs": [],
   "source": [
    "import plotly.graph_objects as go\n",
    "import plotly.io as pio\n",
    "import pandas as pd\n",
    "\n",
    "# Assuming you have already imported the necessary libraries and loaded your data into the 'df_withdrawals' DataFrame\n",
    "\n",
    "fig = go.Figure()\n",
    "\n",
    "# Create the violin trace\n",
    "violin_trace = go.Violin(\n",
    "    x=df_withdrawals[\"count_3\"],\n",
    "    y=df_withdrawals[\"sum_3\"],\n",
    "    box_visible=True,  # Show the box plot inside the violin plot\n",
    "    meanline_visible=True,  # Show the mean line inside the violin plot\n",
    "    points='all',  # Show all points within the violin plot\n",
    "    fillcolor='lightseagreen',  # Set the color of the violin plot\n",
    "    line_color='darkslategray',  # Set the color of the violin plot's border\n",
    "    opacity=0.6  # Set the opacity of the violin plot\n",
    ")\n",
    "\n",
    "fig.add_trace(violin_trace)\n",
    "\n",
    "# Customize the layout\n",
    "fig.update_layout(\n",
    "    xaxis=dict(title=\"count_3\"),\n",
    "    yaxis=dict(title=\"sum_3\"),\n",
    "    title=\"Violin Plot\",\n",
    "    showlegend=False\n",
    ")\n",
    "\n",
    "# Set the aspect ratio\n",
    "fig.update_layout(\n",
    "    autosize=False,\n",
    "    width=1200,\n",
    "    height=800\n",
    ")\n",
    "\n",
    "# Show the plot\n",
    "pio.show(fig)"
   ]
  },
  {
   "cell_type": "markdown",
   "id": "82722251",
   "metadata": {},
   "source": [
    "Step #2: Creating New Features"
   ]
  },
  {
   "cell_type": "code",
   "execution_count": null,
   "id": "a2940e21",
   "metadata": {
    "scrolled": false
   },
   "outputs": [],
   "source": [
    "sns.distplot(df_withdrawals['sum_30'], bins=50)\n",
    "\n",
    "sns.countplot(x='count_30', data=df_withdrawals)\n",
    "\n",
    "sns.catplot(x=\"count_30\", y=\"sum_30\",\n",
    "            kind=\"box\", data=df_withdrawals, order=[1, 2, 3, 4, 5, 6, 7, 8, 9, 10],\n",
    "            aspect=3.0)"
   ]
  },
  {
   "cell_type": "code",
   "execution_count": null,
   "id": "95c3af8a",
   "metadata": {},
   "outputs": [],
   "source": [
    "import random\n",
    "\n",
    "# Create a list representing the months from 1 to 84\n",
    "months = list(range(1, 85))\n",
    "\n",
    "# Randomly sample one month\n",
    "random_month = random.choice(months)\n",
    "\n",
    "print(\"Randomly sampled month:\", random_month)\n"
   ]
  },
  {
   "cell_type": "code",
   "execution_count": null,
   "id": "72f27176",
   "metadata": {},
   "outputs": [],
   "source": []
  }
 ],
 "metadata": {
  "colab": {
   "provenance": []
  },
  "kernelspec": {
   "display_name": "Python 3 (ipykernel)",
   "language": "python",
   "name": "python3"
  },
  "language_info": {
   "codemirror_mode": {
    "name": "ipython",
    "version": 3
   },
   "file_extension": ".py",
   "mimetype": "text/x-python",
   "name": "python",
   "nbconvert_exporter": "python",
   "pygments_lexer": "ipython3",
   "version": "3.9.13"
  }
 },
 "nbformat": 4,
 "nbformat_minor": 5
}
